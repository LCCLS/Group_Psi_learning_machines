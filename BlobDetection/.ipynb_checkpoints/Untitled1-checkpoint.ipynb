{
 "cells": [
  {
   "cell_type": "code",
   "execution_count": 6,
   "id": "0fe934ff-0bb4-4fde-8af4-1a0375443a47",
   "metadata": {},
   "outputs": [],
   "source": [
    "import numpy as np\n",
    "import pandas as pd"
   ]
  },
  {
   "cell_type": "code",
   "execution_count": 2,
   "id": "4a2b96cf-d770-4ca1-b390-4bec5a5d399a",
   "metadata": {},
   "outputs": [],
   "source": [
    "q_matrix = np.load('matrices/q_matrix_new_5000.npy')"
   ]
  },
  {
   "cell_type": "code",
   "execution_count": 12,
   "id": "7d066795-a467-4a10-8610-d6f9fbae1c2b",
   "metadata": {},
   "outputs": [
    {
     "ename": "SyntaxError",
     "evalue": "expected ':' (1471457889.py, line 9)",
     "output_type": "error",
     "traceback": [
      "\u001b[0;36m  Input \u001b[0;32mIn [12]\u001b[0;36m\u001b[0m\n\u001b[0;31m    if binary == '0'\u001b[0m\n\u001b[0m                    ^\u001b[0m\n\u001b[0;31mSyntaxError\u001b[0m\u001b[0;31m:\u001b[0m expected ':'\n"
     ]
    }
   ],
   "source": [
    "rows = []\n",
    "for i in range(32):\n",
    "    base_two_str = str(bin(i))[2:]\n",
    "    zeros_to_append = 5 - len(base_two_str)\n",
    "    for _ in range(zeros_to_append):\n",
    "        base_two_str = '0' + base_two_str\n",
    "    row_part = ''\n",
    "    for binary in base_two_str:\n",
    "        if binary == '0':\n",
    "            row_part = row_part + '     | '\n",
    "        else: \n",
    "            row_part = row_part + ' GREEN | '\n",
    "    rows.append(row_part)\n",
    "cols = [\"STRAIGHT\", \"LEFT\", \"RIGHT\"]\n",
    "df = pd.DataFrame(data=q_matrix, index=[\"row1\", \"row2\"], columns=[\"column1\", \"column2\"])"
   ]
  },
  {
   "cell_type": "code",
   "execution_count": 11,
   "id": "4e8eaafc-9469-41f5-be67-e0c999fa4027",
   "metadata": {},
   "outputs": [
    {
     "name": "stdout",
     "output_type": "stream",
     "text": [
      "00000\n",
      "00001\n",
      "00010\n",
      "00011\n",
      "00100\n",
      "00101\n",
      "00110\n",
      "00111\n",
      "01000\n",
      "01001\n",
      "01010\n",
      "01011\n",
      "01100\n",
      "01101\n",
      "01110\n",
      "01111\n",
      "10000\n",
      "10001\n",
      "10010\n",
      "10011\n",
      "10100\n",
      "10101\n",
      "10110\n",
      "10111\n",
      "11000\n",
      "11001\n",
      "11010\n",
      "11011\n",
      "11100\n",
      "11101\n",
      "11110\n",
      "11111\n"
     ]
    }
   ],
   "source": [
    "for i in range(32):\n",
    "    base_two_str = str(bin(i))[2:]\n",
    "    zeros_to_append = 5 - len(base_two_str)\n",
    "    for _ in range(zeros_to_append):\n",
    "        base_two_str = '0' + base_two_str\n",
    "    print(base_two_str)"
   ]
  },
  {
   "cell_type": "code",
   "execution_count": null,
   "id": "645f919a-9b83-4bf6-ab8d-bd9d373e2d08",
   "metadata": {},
   "outputs": [],
   "source": []
  }
 ],
 "metadata": {
  "kernelspec": {
   "display_name": "Python 3 (ipykernel)",
   "language": "python",
   "name": "python3"
  },
  "language_info": {
   "codemirror_mode": {
    "name": "ipython",
    "version": 3
   },
   "file_extension": ".py",
   "mimetype": "text/x-python",
   "name": "python",
   "nbconvert_exporter": "python",
   "pygments_lexer": "ipython3",
   "version": "3.10.2"
  }
 },
 "nbformat": 4,
 "nbformat_minor": 5
}
